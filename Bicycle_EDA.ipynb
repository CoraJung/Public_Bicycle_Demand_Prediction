{
 "cells": [
  {
   "cell_type": "markdown",
   "metadata": {},
   "source": [
    "# 0. Import module and data"
   ]
  },
  {
   "cell_type": "code",
   "execution_count": 1,
   "metadata": {},
   "outputs": [],
   "source": [
    "# pickle\n",
    "import pickle\n",
    "\n",
    "# 날짜 타입 데이터\n",
    "import datetime\n",
    "\n",
    "# Pandas\n",
    "import pandas as pd\n",
    "\n",
    "# Linear Regression Model - sklearn\n",
    "from sklearn.model_selection import train_test_split"
   ]
  },
  {
   "cell_type": "code",
   "execution_count": 2,
   "metadata": {},
   "outputs": [],
   "source": [
    "# Weather dataset\n",
    "df_weather = pd.read_csv(\"data/weather/Weather.csv\", encoding='euc-kr')\n",
    "\n",
    "# Dust dataset\n",
    "df_dust_2015 = pd.read_excel(\"data/dust/dust_2015.xlsx\", encoding = \"euc-kr\")\n",
    "df_dust_2016 = pd.read_excel(\"data/dust/dust_2016.xlsx\", encoding = \"euc-kr\")\n",
    "df_dust_2017 = pd.read_excel(\"data/dust/dust_2017.xlsx\", encoding = \"euc-kr\")\n",
    "df_dust_2018 = pd.read_excel(\"data/dust/dust_2018.xlsx\", encoding = \"euc-kr\")"
   ]
  },
  {
   "cell_type": "markdown",
   "metadata": {},
   "source": [
    "# 1. Data preprocessing"
   ]
  },
  {
   "cell_type": "code",
   "execution_count": 4,
   "metadata": {},
   "outputs": [],
   "source": [
    "df_weather = df_weather[[\n",
    "    \"일시\",\n",
    "    \"평균기온(°C)\",\n",
    "    \"일강수량(mm)\",\n",
    "    \"평균 풍속(m/s)\",\n",
    "    \"최다풍향(16방위)\",\n",
    "    \"평균 상대습도(%)\",\n",
    "    \"평균 현지기압(hPa)\",\n",
    "    \"합계 일조 시간(hr)\",\n",
    "    \"평균 전운량(1/10)\",\n",
    "    \"평균 중하층운량(1/10)\",\n",
    "    ]]\n",
    "df_weather[\"일시\"] = df_weather[\"일시\"].astype(\"datetime64\")"
   ]
  },
  {
   "cell_type": "code",
   "execution_count": 5,
   "metadata": {
    "scrolled": true
   },
   "outputs": [
    {
     "data": {
      "text/plain": [
       "일시                   0\n",
       "평균기온(°C)             0\n",
       "일강수량(mm)          1032\n",
       "평균 풍속(m/s)           3\n",
       "최다풍향(16방위)           3\n",
       "평균 상대습도(%)           0\n",
       "평균 현지기압(hPa)         0\n",
       "합계 일조 시간(hr)         9\n",
       "평균 전운량(1/10)         0\n",
       "평균 중하층운량(1/10)      15\n",
       "dtype: int64"
      ]
     },
     "execution_count": 5,
     "metadata": {},
     "output_type": "execute_result"
    }
   ],
   "source": [
    "df_weather.isnull().sum()"
   ]
  },
  {
   "cell_type": "code",
   "execution_count": 10,
   "metadata": {},
   "outputs": [
    {
     "data": {
      "text/plain": [
       "144"
      ]
     },
     "execution_count": 10,
     "metadata": {},
     "output_type": "execute_result"
    }
   ],
   "source": [
    "(df_weather[\"일강수량(mm)\"] == 0).sum()"
   ]
  },
  {
   "cell_type": "code",
   "execution_count": 11,
   "metadata": {},
   "outputs": [
    {
     "data": {
      "text/plain": [
       "1621"
      ]
     },
     "execution_count": 11,
     "metadata": {},
     "output_type": "execute_result"
    }
   ],
   "source": [
    "len(df_weather)"
   ]
  },
  {
   "cell_type": "code",
   "execution_count": null,
   "metadata": {},
   "outputs": [],
   "source": []
  }
 ],
 "metadata": {
  "kernelspec": {
   "display_name": "Python 3",
   "language": "python",
   "name": "python3"
  },
  "language_info": {
   "codemirror_mode": {
    "name": "ipython",
    "version": 3
   },
   "file_extension": ".py",
   "mimetype": "text/x-python",
   "name": "python",
   "nbconvert_exporter": "python",
   "pygments_lexer": "ipython3",
   "version": "3.7.2"
  }
 },
 "nbformat": 4,
 "nbformat_minor": 2
}
